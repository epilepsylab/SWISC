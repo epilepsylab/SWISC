{
 "cells": [
  {
   "cell_type": "code",
   "execution_count": 1,
   "metadata": {},
   "outputs": [],
   "source": [
    "import config\n",
    "import preprocessing  as p\n",
    "import postprocessing as m\n",
    "from sklearn.preprocessing import StandardScaler, FunctionTransformer\n",
    "from scipy.stats import zscore\n",
    "import numpy as np\n",
    "from keras.models import load_model\n",
    "import numpy as np\n",
    "import matplotlib as mpl\n",
    "from sklearn.preprocessing import OneHotEncoder\n",
    "from sklearn.metrics import precision_score, recall_score, f1_score, accuracy_score, confusion_matrix, log_loss, cohen_kappa_score, matthews_corrcoef\n",
    "import pandas as pd\n",
    "import os\n",
    "import config\n",
    "from sklearn.preprocessing import StandardScaler\n",
    "from keras.models import clone_model\n"
   ]
  },
  {
   "cell_type": "code",
   "execution_count": 2,
   "metadata": {},
   "outputs": [],
   "source": [
    "server='/Volumes/EEG Core HD/Pipeline For Olga/Pipeline Example Files/Mats/'\n",
    "path='/Users/Olga/CS_projects/SWISC/package/datanpy_newest_scored/Feats_Fourier_and_PSD'\n",
    "path_1='/Volumes/EEG Core HD/Pipeline For Olga/Pipeline Example Files/Mats/NPM661-664'\n",
    "path_2='/Volumes/EEG Core HD/Pipeline For Olga/Pipeline Example Files/Mats/NPM661-664/SlSz'\n",
    "\n",
    "#imports single file\n",
    "path_3='/Volumes/EEG Core HD/Pipeline For Olga/Pipeline Example Files/Mats/NPM661-664/SlSz/NPM661-664 210711 070952_053.smrx m1 NPM661 SlSz.mat'\n",
    "path_3='Y:/Brandon/Spike2_Pipeline/Mats/NPM661-664/SlSz/NPM661-664 210711 070952_053.smrx m1 NPM661 SlSz.mat'\n",
    "path_3='Y:/Brandon/Spike2_Pipeline/Mats/NPM665-668/SlSz/NPM665-668 210711 190335_054.smrx m2 NPM666 SlSz.mat'"
   ]
  },
  {
   "cell_type": "code",
   "execution_count": 3,
   "metadata": {},
   "outputs": [
    {
     "data": {
      "text/plain": [
       "['Y:/Brandon/Spike2_Pipeline/Mats/NPM665-668/SlSz/NPM665-668 210711 190335_054.smrx m2 NPM666 SlSz.mat']"
      ]
     },
     "execution_count": 3,
     "metadata": {},
     "output_type": "execute_result"
    }
   ],
   "source": [
    "p.return_file_list_from_server(path_3)"
   ]
  },
  {
   "cell_type": "code",
   "execution_count": 4,
   "metadata": {},
   "outputs": [
    {
     "data": {
      "text/plain": [
       "{'Cohort': 'NPM665-668',\n",
       " 'Mouse': 'm2',\n",
       " 'Annotation Type': 'SlSz',\n",
       " 'Date': '210711',\n",
       " 'Time': '190335_054'}"
      ]
     },
     "execution_count": 4,
     "metadata": {},
     "output_type": "execute_result"
    }
   ],
   "source": [
    "p.extract_metadata(path_3)"
   ]
  },
  {
   "cell_type": "code",
   "execution_count": 5,
   "metadata": {},
   "outputs": [],
   "source": [
    "dict=p.download_new_file(path_3)\n"
   ]
  },
  {
   "cell_type": "code",
   "execution_count": 6,
   "metadata": {},
   "outputs": [],
   "source": [
    "d_dict, min_full_epochs = p.decimate_all_channels(dict)\n",
    "d_dict=p.zscore_all_channels(d_dict)"
   ]
  },
  {
   "cell_type": "code",
   "execution_count": 7,
   "metadata": {},
   "outputs": [
    {
     "data": {
      "text/plain": [
       "{'dec_ECog': array([ 0.29088643, -0.06855939, -0.6580078 , ..., -0.60099524,\n",
       "        -1.4105169 , -2.5693393 ], dtype=float32),\n",
       " 'dec_EMG': array([-3.9049275 ,  7.9915237 ,  2.483359  , ..., -1.211296  ,\n",
       "        -0.7862996 ,  0.05005981], dtype=float32),\n",
       " 'dec_HPC_L': array([ 3.1602461e-04,  8.7768853e-01,  1.5222915e+00, ...,\n",
       "         2.0462518e+00, -2.4675387e-01,  7.1112899e-04], dtype=float32),\n",
       " 'dec_HPC_R': array([0.15844232, 1.392502  , 1.5733238 , ..., 1.9235904 , 0.6010037 ,\n",
       "        0.096587  ], dtype=float32)}"
      ]
     },
     "execution_count": 7,
     "metadata": {},
     "output_type": "execute_result"
    }
   ],
   "source": [
    "d_dict"
   ]
  },
  {
   "cell_type": "code",
   "execution_count": 8,
   "metadata": {},
   "outputs": [],
   "source": [
    "ordered_array=p.create_epochs(d_dict)"
   ]
  },
  {
   "cell_type": "code",
   "execution_count": 9,
   "metadata": {},
   "outputs": [
    {
     "data": {
      "text/plain": [
       "array([[ 2.9088643e-01, -6.8559393e-02, -6.5800780e-01, ...,\n",
       "         1.0410837e+00,  7.6740718e-01,  5.6476057e-01],\n",
       "       [-3.9049275e+00,  7.9915237e+00,  2.4833591e+00, ...,\n",
       "         3.0091482e-01, -6.9725847e-01,  3.4915036e-01],\n",
       "       [ 3.1602461e-04,  8.7768853e-01,  1.5222915e+00, ...,\n",
       "        -1.0702263e+00, -1.1130424e+00, -9.8853868e-01],\n",
       "       [ 1.5844232e-01,  1.3925020e+00,  1.5733238e+00, ...,\n",
       "        -6.1831534e-01, -1.5513086e+00, -7.1690381e-01]], dtype=float32)"
      ]
     },
     "execution_count": 9,
     "metadata": {},
     "output_type": "execute_result"
    }
   ],
   "source": [
    "ordered_array[0]"
   ]
  },
  {
   "cell_type": "code",
   "execution_count": 10,
   "metadata": {},
   "outputs": [],
   "source": [
    "X_test=StandardScaler().fit_transform(p.feature_generation(ordered_array))"
   ]
  },
  {
   "cell_type": "code",
   "execution_count": 11,
   "metadata": {},
   "outputs": [
    {
     "data": {
      "text/plain": [
       "array([-2.71643902e+00, -1.50546065e-02, -9.42893001e-01, -5.41281230e-01,\n",
       "        1.80828615e-01, -3.09314910e-01,  6.77439506e+00,  5.94934394e+00,\n",
       "        3.67005251e+00, -2.91557381e-01, -1.29786758e+00,  1.54768861e-01,\n",
       "        5.33817940e-01, -9.90451287e-01, -8.77152533e-01,  2.05870675e-01,\n",
       "        7.01032454e-01,  1.70190174e+00,  1.52010653e+00, -5.08131782e-01,\n",
       "        2.63284497e+01,  1.57548807e+00,  9.97864920e-01,  7.72578088e-01,\n",
       "        1.80079722e-01,  1.02855653e+00,  1.26748761e+01,  1.07920586e+01,\n",
       "        7.08305308e+00,  1.09985423e+00, -4.96604843e+00, -2.40429598e+00,\n",
       "        1.23769142e+00,  6.15624564e-03, -3.61011522e-01, -6.80848811e-01,\n",
       "       -4.39829472e-01,  6.93791251e-01,  6.32938084e-01,  4.49685191e-01,\n",
       "        3.38468154e+00, -5.85734044e-01,  1.43196326e-01, -3.78704845e-03,\n",
       "        6.81914478e-01, -4.63465074e-01,  7.04200794e+00,  6.70505443e+00,\n",
       "        4.82747739e+00,  1.57256691e+00, -3.70764811e+00, -4.27246269e-01,\n",
       "        8.26173623e-01, -9.23678948e-01, -1.06095728e+00,  5.22722104e-01,\n",
       "        1.45965625e+00, -7.81677688e-01, -6.49387639e-01, -1.12019129e+00,\n",
       "        4.01099392e+00, -8.12089343e-01,  9.10876469e-02, -5.18587871e-03,\n",
       "        1.21800307e-01, -6.01579827e-01,  6.97179992e+00,  6.85292789e+00,\n",
       "        5.21375768e+00,  2.37215841e-01, -2.86194157e+00, -5.34299011e-01,\n",
       "        7.43848543e-01, -7.37105235e-01, -8.54178509e-01,  4.52138030e-01,\n",
       "        1.22300242e+00, -8.50496688e-01, -1.21129378e+00, -7.17602481e-01,\n",
       "        2.29522842e+01, -2.99703302e-01, -1.39754561e-01, -2.29834785e-01,\n",
       "       -1.78956388e-01,  1.00345924e-01,  9.53382968e-01,  4.49223877e-01,\n",
       "       -3.70793910e-01, -6.70508484e-01,  3.55532990e-02,  3.26870972e-01,\n",
       "        1.13413095e+00, -5.88600972e-01, -4.55644419e-02,  1.38960232e+00,\n",
       "        3.35458523e-01,  1.15284823e+00,  8.98150086e-01, -3.20610674e-01])"
      ]
     },
     "execution_count": 11,
     "metadata": {},
     "output_type": "execute_result"
    }
   ],
   "source": [
    "X_test[0]"
   ]
  },
  {
   "cell_type": "code",
   "execution_count": 12,
   "metadata": {},
   "outputs": [
    {
     "data": {
      "text/plain": [
       "(2160, 100)"
      ]
     },
     "execution_count": 12,
     "metadata": {},
     "output_type": "execute_result"
    }
   ],
   "source": [
    "X_test.shape"
   ]
  },
  {
   "cell_type": "code",
   "execution_count": 13,
   "metadata": {},
   "outputs": [
    {
     "data": {
      "text/plain": [
       "dict_keys(['V2_ECog', 'V2_EMG', 'V2_HPC_L', 'V2_HPC_R', 'V2_NPM666slsl', 'V2_NPM666szsz'])"
      ]
     },
     "execution_count": 13,
     "metadata": {},
     "output_type": "execute_result"
    }
   ],
   "source": [
    "dict.keys()"
   ]
  },
  {
   "cell_type": "code",
   "execution_count": 14,
   "metadata": {},
   "outputs": [],
   "source": [
    "import re\n",
    "import numpy as np"
   ]
  },
  {
   "cell_type": "code",
   "execution_count": 17,
   "metadata": {},
   "outputs": [
    {
     "name": "stdout",
     "output_type": "stream",
     "text": [
      "Found: sl\n",
      "[[1 0 0 0]\n",
      " [1 0 0 0]\n",
      " [1 0 0 0]\n",
      " ...\n",
      " [1 0 0 0]\n",
      " [1 0 0 0]\n",
      " [1 0 0 0]]\n",
      "(2161, 4)\n"
     ]
    }
   ],
   "source": [
    "scores_reindex=find_scores(dict)"
   ]
  },
  {
   "cell_type": "code",
   "execution_count": 19,
   "metadata": {},
   "outputs": [],
   "source": [
    "y_test=scores_reindex"
   ]
  },
  {
   "cell_type": "code",
   "execution_count": 20,
   "metadata": {},
   "outputs": [],
   "source": [
    "X_predict=m.generate_x_sequences(X_test, 3)\n",
    "y_predict=m.generate_y_sequences(y_test, 3)"
   ]
  },
  {
   "cell_type": "code",
   "execution_count": 22,
   "metadata": {},
   "outputs": [],
   "source": [
    "from keras.models import load_model\n",
    "model=load_model('../Models/SWISC 4 Channel and RMS.h5')"
   ]
  },
  {
   "cell_type": "code",
   "execution_count": 23,
   "metadata": {},
   "outputs": [
    {
     "name": "stdout",
     "output_type": "stream",
     "text": [
      "68/68 [==============================] - 4s 5ms/step\n"
     ]
    }
   ],
   "source": [
    "predictions = model.predict(X_predict)\n",
    "y_pred = np.argmax(predictions, axis=1)\n",
    "y_true = np.argmax(y_predict, axis=1)\n",
    "\n",
    "\n",
    "accuracy = accuracy_score(y_true, y_pred)\n",
    "precision = precision_score(y_true, y_pred, average='macro')\n",
    "recall = recall_score(y_true, y_pred, average='macro')\n",
    "f1 = f1_score(y_true, y_pred, average='macro')\n",
    "kappa = cohen_kappa_score(y_true, y_pred)\n",
    "mcc = matthews_corrcoef(y_true, y_pred)\n",
    "\n",
    "overview={\n",
    "    'File Name': path.split('/')[-1],\n",
    "    'Accuracy': accuracy,\n",
    "    'Precision': precision,\n",
    "    'Recall': recall,\n",
    "    'F1 Score': f1,\n",
    "    'Cohen Kappa': kappa,\n",
    "    'MCC': mcc,\n",
    "    # 'Log Loss': loss\n",
    "}\n",
    "    # Return as a dictionary\n",
    "    "
   ]
  },
  {
   "cell_type": "code",
   "execution_count": 24,
   "metadata": {},
   "outputs": [
    {
     "data": {
      "text/plain": [
       "{'File Name': 'Feats_Fourier_and_PSD',\n",
       " 'Accuracy': 0.9512534818941504,\n",
       " 'Precision': 0.8577914830407412,\n",
       " 'Recall': 0.9387665998801857,\n",
       " 'F1 Score': 0.8846047092589483,\n",
       " 'Cohen Kappa': 0.8643055988864623,\n",
       " 'MCC': 0.8646185575945551}"
      ]
     },
     "execution_count": 24,
     "metadata": {},
     "output_type": "execute_result"
    }
   ],
   "source": [
    "overview"
   ]
  },
  {
   "cell_type": "code",
   "execution_count": null,
   "metadata": {},
   "outputs": [],
   "source": []
  }
 ],
 "metadata": {
  "kernelspec": {
   "display_name": "Python 3 (ipykernel)",
   "language": "python",
   "name": "python3"
  },
  "language_info": {
   "codemirror_mode": {
    "name": "ipython",
    "version": 3
   },
   "file_extension": ".py",
   "mimetype": "text/x-python",
   "name": "python",
   "nbconvert_exporter": "python",
   "pygments_lexer": "ipython3",
   "version": "3.10.0"
  }
 },
 "nbformat": 4,
 "nbformat_minor": 4
}
