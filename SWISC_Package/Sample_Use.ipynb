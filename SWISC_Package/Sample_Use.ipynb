{
 "cells": [
  {
   "cell_type": "code",
   "execution_count": 42,
   "metadata": {},
   "outputs": [],
   "source": [
    "import config\n",
    "import preprocessing  as p\n",
    "import postprocessing as m"
   ]
  },
  {
   "cell_type": "code",
   "execution_count": 43,
   "metadata": {},
   "outputs": [],
   "source": [
    "server='/Volumes/EEG Core HD/Pipeline For Olga/Pipeline Example Files/Mats/'\n",
    "path='/Users/Olga/CS_projects/SWISC/package/datanpy_newest_scored/Feats_Fourier_and_PSD'\n",
    "path_1='/Volumes/EEG Core HD/Pipeline For Olga/Pipeline Example Files/Mats/NPM661-664'\n",
    "path_2='/Volumes/EEG Core HD/Pipeline For Olga/Pipeline Example Files/Mats/NPM661-664/SlSz'\n",
    "\n",
    "#imports single file\n",
    "path_3='/Volumes/EEG Core HD/Pipeline For Olga/Pipeline Example Files/Mats/NPM661-664/SlSz/NPM661-664 210711 070952_053.smrx m1 NPM661 SlSz.mat'"
   ]
  },
  {
   "cell_type": "code",
   "execution_count": 44,
   "metadata": {},
   "outputs": [
    {
     "data": {
      "text/plain": [
       "['/Volumes/EEG Core HD/Pipeline For Olga/Pipeline Example Files/Mats/NPM661-664/SlSz/NPM661-664 210711 070952_053.smrx m1 NPM661 SlSz.mat']"
      ]
     },
     "execution_count": 44,
     "metadata": {},
     "output_type": "execute_result"
    }
   ],
   "source": [
    "p.return_file_list_from_server(path_3)"
   ]
  },
  {
   "cell_type": "code",
   "execution_count": 45,
   "metadata": {},
   "outputs": [
    {
     "data": {
      "text/plain": [
       "{'Cohort': 'NPM661-664',\n",
       " 'Mouse': 'm1',\n",
       " 'Annotation Type': 'SlSz',\n",
       " 'Date': '210711',\n",
       " 'Time': '070952_053'}"
      ]
     },
     "execution_count": 45,
     "metadata": {},
     "output_type": "execute_result"
    }
   ],
   "source": [
    "p.extract_metadata(path_3)"
   ]
  },
  {
   "cell_type": "code",
   "execution_count": 46,
   "metadata": {},
   "outputs": [],
   "source": [
    "dict=p.download_new_file(path_3)\n"
   ]
  },
  {
   "cell_type": "code",
   "execution_count": 47,
   "metadata": {},
   "outputs": [
    {
     "data": {
      "text/plain": [
       "dict_keys(['V1_ECog', 'V1_EMG', 'V1_HPC_L', 'V1_HPC_R', 'V1_NPM661slslsl', 'V1_NPM661szsz'])"
      ]
     },
     "execution_count": 47,
     "metadata": {},
     "output_type": "execute_result"
    }
   ],
   "source": [
    "dict.keys()"
   ]
  },
  {
   "cell_type": "code",
   "execution_count": 48,
   "metadata": {},
   "outputs": [],
   "source": [
    "d_dict=p.decimate_all_channels(dict)"
   ]
  },
  {
   "cell_type": "code",
   "execution_count": 49,
   "metadata": {},
   "outputs": [],
   "source": [
    "ordered_array=p.create_epochs(d_dict)\n",
    "    "
   ]
  },
  {
   "cell_type": "code",
   "execution_count": 50,
   "metadata": {},
   "outputs": [],
   "source": [
    "X_test=p.feature_generation(ordered_array)"
   ]
  },
  {
   "cell_type": "code",
   "execution_count": 51,
   "metadata": {},
   "outputs": [
    {
     "data": {
      "text/plain": [
       "(2160, 100)"
      ]
     },
     "execution_count": 51,
     "metadata": {},
     "output_type": "execute_result"
    }
   ],
   "source": [
    "X_test.shape"
   ]
  },
  {
   "cell_type": "code",
   "execution_count": 52,
   "metadata": {},
   "outputs": [
    {
     "data": {
      "text/plain": [
       "dict_keys(['V1_ECog', 'V1_EMG', 'V1_HPC_L', 'V1_HPC_R', 'V1_NPM661slslsl', 'V1_NPM661szsz'])"
      ]
     },
     "execution_count": 52,
     "metadata": {},
     "output_type": "execute_result"
    }
   ],
   "source": [
    "dict.keys()"
   ]
  },
  {
   "cell_type": "code",
   "execution_count": 53,
   "metadata": {},
   "outputs": [],
   "source": [
    "import re\n",
    "import numpy as np"
   ]
  },
  {
   "cell_type": "code",
   "execution_count": 54,
   "metadata": {},
   "outputs": [
    {
     "name": "stdout",
     "output_type": "stream",
     "text": [
      "Found: sl\n"
     ]
    }
   ],
   "source": [
    "for k in dict.keys():\n",
    "        pattern = r'(?i)sl'\n",
    "        match = re.search(pattern, k)\n",
    "        if match:\n",
    "            print(\"Found:\", match.group())\n",
    "            # print(np.array(new_dict[k]['codes'][0]).shape)\n",
    "            Sleep_codes=np.array(dict[k]['codes'][0])\n",
    "            # epoch_ratio=config.target_epoch_count//len(Sleep_codes)\n",
    "            # sleepEpochsRound=config.target_epoch_count//epoch_ratio       \n",
    "            a_reshaped =Sleep_codes[:config.target_epoch_count, 0].reshape(config.target_epoch_count, 1).flatten()"
   ]
  },
  {
   "cell_type": "code",
   "execution_count": 55,
   "metadata": {},
   "outputs": [
    {
     "data": {
      "text/plain": [
       "(2160,)"
      ]
     },
     "execution_count": 55,
     "metadata": {},
     "output_type": "execute_result"
    }
   ],
   "source": [
    "a_reshaped.shape"
   ]
  },
  {
   "cell_type": "code",
   "execution_count": 56,
   "metadata": {},
   "outputs": [],
   "source": [
    "y_test=a_reshaped"
   ]
  },
  {
   "cell_type": "code",
   "execution_count": 57,
   "metadata": {},
   "outputs": [
    {
     "data": {
      "text/plain": [
       "(2160,)"
      ]
     },
     "execution_count": 57,
     "metadata": {},
     "output_type": "execute_result"
    }
   ],
   "source": [
    "y_test.shape"
   ]
  },
  {
   "cell_type": "code",
   "execution_count": 58,
   "metadata": {},
   "outputs": [],
   "source": [
    "X_predict=m.generate_x_sequences(X_test, 3)\n",
    "y_predict=m.generate_y_sequences(y_test, 3)"
   ]
  },
  {
   "cell_type": "code",
   "execution_count": 59,
   "metadata": {},
   "outputs": [],
   "source": [
    "from keras.models import load_model\n",
    "\n",
    "import numpy as np\n",
    "import seaborn as sns\n",
    "import matplotlib as mpl\n",
    "from sklearn.preprocessing import OneHotEncoder\n",
    "from sklearn.metrics import precision_score, recall_score, f1_score, accuracy_score, confusion_matrix, log_loss, cohen_kappa_score, matthews_corrcoef\n",
    "import pandas as pd\n",
    "import os\n",
    "import config\n",
    "from sklearn.preprocessing import StandardScaler\n",
    "from keras.models import clone_model"
   ]
  },
  {
   "cell_type": "code",
   "execution_count": 60,
   "metadata": {},
   "outputs": [],
   "source": [
    "from keras.models import load_model\n",
    "model=load_model('/Users/Olga/CS_projects/SWISC/package/Models/SWISC 4 Channel and RMS.h5')"
   ]
  },
  {
   "cell_type": "code",
   "execution_count": 61,
   "metadata": {},
   "outputs": [
    {
     "name": "stdout",
     "output_type": "stream",
     "text": [
      "68/68 [==============================] - 2s 9ms/step\n"
     ]
    },
    {
     "name": "stderr",
     "output_type": "stream",
     "text": [
      "/Users/Olga/anaconda3/envs/brandon_env/lib/python3.10/site-packages/sklearn/metrics/_classification.py:1327: UndefinedMetricWarning: Precision is ill-defined and being set to 0.0 in labels with no predicted samples. Use `zero_division` parameter to control this behavior.\n",
      "  _warn_prf(average, modifier, msg_start, len(result))\n",
      "/Users/Olga/anaconda3/envs/brandon_env/lib/python3.10/site-packages/sklearn/metrics/_classification.py:1327: UndefinedMetricWarning: Recall is ill-defined and being set to 0.0 in labels with no true samples. Use `zero_division` parameter to control this behavior.\n",
      "  _warn_prf(average, modifier, msg_start, len(result))\n"
     ]
    }
   ],
   "source": [
    "predictions = model.predict(X_predict)\n",
    "y_pred = np.argmax(predictions, axis=1)\n",
    "y_true = np.argmax(y_predict, axis=1)\n",
    "\n",
    "\n",
    "accuracy = accuracy_score(y_true, y_pred)\n",
    "precision = precision_score(y_true, y_pred, average='macro')\n",
    "recall = recall_score(y_true, y_pred, average='macro')\n",
    "f1 = f1_score(y_true, y_pred, average='macro')\n",
    "kappa = cohen_kappa_score(y_true, y_pred)\n",
    "mcc = matthews_corrcoef(y_true, y_pred)\n",
    "\n",
    "overview={\n",
    "    'File Name': path.split('/')[-1],\n",
    "    'Accuracy': accuracy,\n",
    "    'Precision': precision,\n",
    "    'Recall': recall,\n",
    "    'F1 Score': f1,\n",
    "    'Cohen Kappa': kappa,\n",
    "    'MCC': mcc,\n",
    "    # 'Log Loss': loss\n",
    "}\n",
    "    # Return as a dictionary\n",
    "    "
   ]
  },
  {
   "cell_type": "code",
   "execution_count": 62,
   "metadata": {},
   "outputs": [
    {
     "data": {
      "text/plain": [
       "{'File Name': 'Feats_Fourier_and_PSD',\n",
       " 'Accuracy': 0.20009285051067782,\n",
       " 'Precision': 0.22382478632478633,\n",
       " 'Recall': 0.0918520337514751,\n",
       " 'F1 Score': 0.07114463330778863,\n",
       " 'Cohen Kappa': -0.0135418672194072,\n",
       " 'MCC': -0.019414424689084758}"
      ]
     },
     "execution_count": 62,
     "metadata": {},
     "output_type": "execute_result"
    }
   ],
   "source": [
    "overview"
   ]
  }
 ],
 "metadata": {
  "kernelspec": {
   "display_name": "brandon_env",
   "language": "python",
   "name": "python3"
  },
  "language_info": {
   "codemirror_mode": {
    "name": "ipython",
    "version": 3
   },
   "file_extension": ".py",
   "mimetype": "text/x-python",
   "name": "python",
   "nbconvert_exporter": "python",
   "pygments_lexer": "ipython3",
   "version": "3.10.13"
  },
  "orig_nbformat": 4
 },
 "nbformat": 4,
 "nbformat_minor": 2
}
